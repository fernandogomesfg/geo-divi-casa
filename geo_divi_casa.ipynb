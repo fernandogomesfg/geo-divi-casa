{
  "nbformat": 4,
  "nbformat_minor": 0,
  "metadata": {
    "colab": {
      "provenance": [],
      "authorship_tag": "ABX9TyOwd/y0+Dg7eCFE8Kkv1xEq",
      "include_colab_link": true
    },
    "kernelspec": {
      "name": "python3",
      "display_name": "Python 3"
    },
    "language_info": {
      "name": "python"
    }
  },
  "cells": [
    {
      "cell_type": "markdown",
      "metadata": {
        "id": "view-in-github",
        "colab_type": "text"
      },
      "source": [
        "<a href=\"https://colab.research.google.com/github/fernandogomesfg/geo-divi-casa/blob/main/geo_divi_casa.ipynb\" target=\"_parent\"><img src=\"https://colab.research.google.com/assets/colab-badge.svg\" alt=\"Open In Colab\"/></a>"
      ]
    },
    {
      "cell_type": "markdown",
      "source": [
        "# Bibliotecas"
      ],
      "metadata": {
        "id": "uezTs8dwWlOd"
      }
    },
    {
      "cell_type": "code",
      "execution_count": null,
      "metadata": {
        "id": "TKG0_jAgDu8h"
      },
      "outputs": [],
      "source": [
        "!pip install geopandas shapely osmnx"
      ]
    },
    {
      "cell_type": "code",
      "source": [
        "import geopandas as gpd\n",
        "from shapely.geometry import shape\n",
        "import osmnx as ox\n",
        "from google.colab import files"
      ],
      "metadata": {
        "id": "BZp5Wem8D-Ti"
      },
      "execution_count": 43,
      "outputs": []
    },
    {
      "cell_type": "markdown",
      "source": [
        "# Caminho do Shapefile"
      ],
      "metadata": {
        "id": "XwDq7FgdWquP"
      }
    },
    {
      "cell_type": "code",
      "source": [
        "file_path = '/content/mocuba.shp'\n",
        "gdf = gpd.read_file(file_path)"
      ],
      "metadata": {
        "id": "4XbkyOiqECV-"
      },
      "execution_count": 44,
      "outputs": []
    },
    {
      "cell_type": "markdown",
      "source": [
        "# Divisao de cada Shapefile e guardar em novos"
      ],
      "metadata": {
        "id": "bTnm1BhuWvc9"
      }
    },
    {
      "cell_type": "code",
      "source": [
        "new_crs = \"EPSG:4326\"  # WGS 84\n",
        "\n",
        "for idx, row in gdf.iterrows():\n",
        "    geom = row['geometry']\n",
        "    new_gdf = gpd.GeoDataFrame({'geometry': [geom]}, crs=gdf.crs)\n",
        "    new_gdf = new_gdf.to_crs(new_crs)\n",
        "\n",
        "    output_path = f'divisao_{idx}.shp'\n",
        "    new_gdf.to_file(output_path)\n",
        "    print(f\"Divisão {idx} salva em {output_path}\")\n"
      ],
      "metadata": {
        "id": "FXRw9pCXEaGn",
        "colab": {
          "base_uri": "https://localhost:8080/"
        },
        "outputId": "f70ee7f5-2bf9-472a-9081-6e26c99537de"
      },
      "execution_count": 45,
      "outputs": [
        {
          "output_type": "stream",
          "name": "stdout",
          "text": [
            "Divisão 0 salva em divisao_0.shp\n",
            "Divisão 1 salva em divisao_1.shp\n",
            "Divisão 2 salva em divisao_2.shp\n",
            "Divisão 3 salva em divisao_3.shp\n",
            "Divisão 4 salva em divisao_4.shp\n",
            "Divisão 5 salva em divisao_5.shp\n",
            "Divisão 6 salva em divisao_6.shp\n",
            "Divisão 7 salva em divisao_7.shp\n",
            "Divisão 8 salva em divisao_8.shp\n",
            "Divisão 9 salva em divisao_9.shp\n",
            "Divisão 10 salva em divisao_10.shp\n",
            "Divisão 11 salva em divisao_11.shp\n",
            "Divisão 12 salva em divisao_12.shp\n",
            "Divisão 13 salva em divisao_13.shp\n",
            "Divisão 14 salva em divisao_14.shp\n",
            "Divisão 15 salva em divisao_15.shp\n",
            "Divisão 16 salva em divisao_16.shp\n",
            "Divisão 17 salva em divisao_17.shp\n",
            "Divisão 18 salva em divisao_18.shp\n",
            "Divisão 19 salva em divisao_19.shp\n",
            "Divisão 20 salva em divisao_20.shp\n",
            "Divisão 21 salva em divisao_21.shp\n",
            "Divisão 22 salva em divisao_22.shp\n",
            "Divisão 23 salva em divisao_23.shp\n",
            "Divisão 24 salva em divisao_24.shp\n",
            "Divisão 25 salva em divisao_25.shp\n",
            "Divisão 26 salva em divisao_26.shp\n",
            "Divisão 27 salva em divisao_27.shp\n",
            "Divisão 28 salva em divisao_28.shp\n",
            "Divisão 29 salva em divisao_29.shp\n",
            "Divisão 30 salva em divisao_30.shp\n",
            "Divisão 31 salva em divisao_31.shp\n",
            "Divisão 32 salva em divisao_32.shp\n",
            "Divisão 33 salva em divisao_33.shp\n",
            "Divisão 34 salva em divisao_34.shp\n",
            "Divisão 35 salva em divisao_35.shp\n",
            "Divisão 36 salva em divisao_36.shp\n",
            "Divisão 37 salva em divisao_37.shp\n",
            "Divisão 38 salva em divisao_38.shp\n",
            "Divisão 39 salva em divisao_39.shp\n",
            "Divisão 40 salva em divisao_40.shp\n",
            "Divisão 41 salva em divisao_41.shp\n",
            "Divisão 42 salva em divisao_42.shp\n",
            "Divisão 43 salva em divisao_43.shp\n",
            "Divisão 44 salva em divisao_44.shp\n",
            "Divisão 45 salva em divisao_45.shp\n",
            "Divisão 46 salva em divisao_46.shp\n",
            "Divisão 47 salva em divisao_47.shp\n",
            "Divisão 48 salva em divisao_48.shp\n",
            "Divisão 49 salva em divisao_49.shp\n"
          ]
        }
      ]
    },
    {
      "cell_type": "markdown",
      "source": [
        "# Contagem das casas dos poligonos divididos"
      ],
      "metadata": {
        "id": "CbIbn3NfXQvu"
      }
    },
    {
      "cell_type": "code",
      "source": [
        "for idx, row in gdf.iterrows():\n",
        "  polygon = gpd.read_file(output_path)\n",
        "  new_poly = polygon[\"geometry\"].iloc[0]\n",
        "  build3 = ox.geometries_from_polygon(new_poly, tags = {\"building\": True})\n",
        "  new_build = build3[[\"building\", \"name\", \"geometry\"]]\n",
        "  # new_build\n",
        "\n",
        "  edificios_output_path = f'edificios_divisao_{idx}.geojson'\n",
        "  new_build.to_file(edificios_output_path, driver='GeoJSON')\n",
        "  files.download(edificios_output_path)"
      ],
      "metadata": {
        "id": "ccml9FhhLCLA"
      },
      "execution_count": null,
      "outputs": []
    }
  ]
}