{
  "nbformat": 4,
  "nbformat_minor": 0,
  "metadata": {
    "colab": {
      "provenance": [],
      "authorship_tag": "ABX9TyN3EPzaOurO8uaeKRP/Qc1X",
      "include_colab_link": true
    },
    "kernelspec": {
      "name": "python3",
      "display_name": "Python 3"
    },
    "language_info": {
      "name": "python"
    }
  },
  "cells": [
    {
      "cell_type": "markdown",
      "metadata": {
        "id": "view-in-github",
        "colab_type": "text"
      },
      "source": [
        "<a href=\"https://colab.research.google.com/github/fernandogomesfg/geo-divi-casa/blob/main/geo_divi_casa.ipynb\" target=\"_parent\"><img src=\"https://colab.research.google.com/assets/colab-badge.svg\" alt=\"Open In Colab\"/></a>"
      ]
    },
    {
      "cell_type": "markdown",
      "source": [
        "# Bibliotecas"
      ],
      "metadata": {
        "id": "uezTs8dwWlOd"
      }
    },
    {
      "cell_type": "code",
      "execution_count": null,
      "metadata": {
        "id": "TKG0_jAgDu8h"
      },
      "outputs": [],
      "source": [
        "!pip install geopandas shapely osmnx"
      ]
    },
    {
      "cell_type": "code",
      "source": [
        "import geopandas as gpd\n",
        "from shapely.geometry import shape\n",
        "import osmnx as ox\n",
        "from google.colab import files"
      ],
      "metadata": {
        "id": "BZp5Wem8D-Ti"
      },
      "execution_count": 17,
      "outputs": []
    },
    {
      "cell_type": "markdown",
      "source": [
        "# Caminho do Shapefile"
      ],
      "metadata": {
        "id": "XwDq7FgdWquP"
      }
    },
    {
      "cell_type": "code",
      "source": [
        "file_path = '/content/mocuba.shp'\n",
        "gdf = gpd.read_file(file_path)"
      ],
      "metadata": {
        "id": "4XbkyOiqECV-"
      },
      "execution_count": 11,
      "outputs": []
    },
    {
      "cell_type": "markdown",
      "source": [
        "# Divisao de cada Shapefile e guardar em novos\n",
        "# Contagem das casas dos poligonos divididos"
      ],
      "metadata": {
        "id": "bTnm1BhuWvc9"
      }
    },
    {
      "cell_type": "code",
      "source": [
        "new_crs = \"EPSG:4326\"  # WGS 84\n",
        "\n",
        "for idx, row in gdf.iterrows():\n",
        "    geom = row['geometry']\n",
        "    new_gdf = gpd.GeoDataFrame({'geometry': [geom]}, crs=gdf.crs)\n",
        "    new_gdf = new_gdf.to_crs(new_crs)\n",
        "\n",
        "    output_path = f'divisao_{idx}.shp'\n",
        "    new_gdf.to_file(output_path)\n",
        "\n",
        "    polygon = gpd.read_file(output_path)\n",
        "    new_poly = polygon[\"geometry\"].iloc[0]\n",
        "    build3 = ox.geometries_from_polygon(new_poly, tags = {\"building\": True})\n",
        "    new_build = build3[[\"building\", \"geometry\"]]\n",
        "      # new_build\n",
        "\n",
        "    edificios_output_path = f'edificios_divisao_{idx}.geojson'\n",
        "    new_build.to_file(edificios_output_path, driver='GeoJSON')\n",
        "      # files.download(edificios_output_path)\n",
        "\n",
        "print(f\"Divisão {idx} salva em {output_path}\")"
      ],
      "metadata": {
        "colab": {
          "base_uri": "https://localhost:8080/"
        },
        "id": "mWJgT-bWXOd1",
        "outputId": "fd41d3cf-eed5-4361-a15b-ca3b796bd3af"
      },
      "execution_count": 18,
      "outputs": [
        {
          "output_type": "stream",
          "name": "stderr",
          "text": [
            "<ipython-input-18-8d4d98e3de7c>:13: UserWarning: The `geometries` module and `geometries_from_X` functions have been renamed the `features` module and `features_from_X` functions. Use these instead. The `geometries` module and function names are deprecated and will be removed in a future release.\n",
            "  build3 = ox.geometries_from_polygon(new_poly, tags = {\"building\": True})\n",
            "<ipython-input-18-8d4d98e3de7c>:13: UserWarning: The `geometries` module and `geometries_from_X` functions have been renamed the `features` module and `features_from_X` functions. Use these instead. The `geometries` module and function names are deprecated and will be removed in a future release.\n",
            "  build3 = ox.geometries_from_polygon(new_poly, tags = {\"building\": True})\n",
            "<ipython-input-18-8d4d98e3de7c>:13: UserWarning: The `geometries` module and `geometries_from_X` functions have been renamed the `features` module and `features_from_X` functions. Use these instead. The `geometries` module and function names are deprecated and will be removed in a future release.\n",
            "  build3 = ox.geometries_from_polygon(new_poly, tags = {\"building\": True})\n",
            "<ipython-input-18-8d4d98e3de7c>:13: UserWarning: The `geometries` module and `geometries_from_X` functions have been renamed the `features` module and `features_from_X` functions. Use these instead. The `geometries` module and function names are deprecated and will be removed in a future release.\n",
            "  build3 = ox.geometries_from_polygon(new_poly, tags = {\"building\": True})\n",
            "<ipython-input-18-8d4d98e3de7c>:13: UserWarning: The `geometries` module and `geometries_from_X` functions have been renamed the `features` module and `features_from_X` functions. Use these instead. The `geometries` module and function names are deprecated and will be removed in a future release.\n",
            "  build3 = ox.geometries_from_polygon(new_poly, tags = {\"building\": True})\n",
            "<ipython-input-18-8d4d98e3de7c>:13: UserWarning: The `geometries` module and `geometries_from_X` functions have been renamed the `features` module and `features_from_X` functions. Use these instead. The `geometries` module and function names are deprecated and will be removed in a future release.\n",
            "  build3 = ox.geometries_from_polygon(new_poly, tags = {\"building\": True})\n",
            "<ipython-input-18-8d4d98e3de7c>:13: UserWarning: The `geometries` module and `geometries_from_X` functions have been renamed the `features` module and `features_from_X` functions. Use these instead. The `geometries` module and function names are deprecated and will be removed in a future release.\n",
            "  build3 = ox.geometries_from_polygon(new_poly, tags = {\"building\": True})\n",
            "<ipython-input-18-8d4d98e3de7c>:13: UserWarning: The `geometries` module and `geometries_from_X` functions have been renamed the `features` module and `features_from_X` functions. Use these instead. The `geometries` module and function names are deprecated and will be removed in a future release.\n",
            "  build3 = ox.geometries_from_polygon(new_poly, tags = {\"building\": True})\n",
            "<ipython-input-18-8d4d98e3de7c>:13: UserWarning: The `geometries` module and `geometries_from_X` functions have been renamed the `features` module and `features_from_X` functions. Use these instead. The `geometries` module and function names are deprecated and will be removed in a future release.\n",
            "  build3 = ox.geometries_from_polygon(new_poly, tags = {\"building\": True})\n",
            "<ipython-input-18-8d4d98e3de7c>:13: UserWarning: The `geometries` module and `geometries_from_X` functions have been renamed the `features` module and `features_from_X` functions. Use these instead. The `geometries` module and function names are deprecated and will be removed in a future release.\n",
            "  build3 = ox.geometries_from_polygon(new_poly, tags = {\"building\": True})\n",
            "<ipython-input-18-8d4d98e3de7c>:13: UserWarning: The `geometries` module and `geometries_from_X` functions have been renamed the `features` module and `features_from_X` functions. Use these instead. The `geometries` module and function names are deprecated and will be removed in a future release.\n",
            "  build3 = ox.geometries_from_polygon(new_poly, tags = {\"building\": True})\n",
            "<ipython-input-18-8d4d98e3de7c>:13: UserWarning: The `geometries` module and `geometries_from_X` functions have been renamed the `features` module and `features_from_X` functions. Use these instead. The `geometries` module and function names are deprecated and will be removed in a future release.\n",
            "  build3 = ox.geometries_from_polygon(new_poly, tags = {\"building\": True})\n",
            "<ipython-input-18-8d4d98e3de7c>:13: UserWarning: The `geometries` module and `geometries_from_X` functions have been renamed the `features` module and `features_from_X` functions. Use these instead. The `geometries` module and function names are deprecated and will be removed in a future release.\n",
            "  build3 = ox.geometries_from_polygon(new_poly, tags = {\"building\": True})\n",
            "<ipython-input-18-8d4d98e3de7c>:13: UserWarning: The `geometries` module and `geometries_from_X` functions have been renamed the `features` module and `features_from_X` functions. Use these instead. The `geometries` module and function names are deprecated and will be removed in a future release.\n",
            "  build3 = ox.geometries_from_polygon(new_poly, tags = {\"building\": True})\n",
            "<ipython-input-18-8d4d98e3de7c>:13: UserWarning: The `geometries` module and `geometries_from_X` functions have been renamed the `features` module and `features_from_X` functions. Use these instead. The `geometries` module and function names are deprecated and will be removed in a future release.\n",
            "  build3 = ox.geometries_from_polygon(new_poly, tags = {\"building\": True})\n",
            "<ipython-input-18-8d4d98e3de7c>:13: UserWarning: The `geometries` module and `geometries_from_X` functions have been renamed the `features` module and `features_from_X` functions. Use these instead. The `geometries` module and function names are deprecated and will be removed in a future release.\n",
            "  build3 = ox.geometries_from_polygon(new_poly, tags = {\"building\": True})\n",
            "<ipython-input-18-8d4d98e3de7c>:13: UserWarning: The `geometries` module and `geometries_from_X` functions have been renamed the `features` module and `features_from_X` functions. Use these instead. The `geometries` module and function names are deprecated and will be removed in a future release.\n",
            "  build3 = ox.geometries_from_polygon(new_poly, tags = {\"building\": True})\n",
            "<ipython-input-18-8d4d98e3de7c>:13: UserWarning: The `geometries` module and `geometries_from_X` functions have been renamed the `features` module and `features_from_X` functions. Use these instead. The `geometries` module and function names are deprecated and will be removed in a future release.\n",
            "  build3 = ox.geometries_from_polygon(new_poly, tags = {\"building\": True})\n",
            "<ipython-input-18-8d4d98e3de7c>:13: UserWarning: The `geometries` module and `geometries_from_X` functions have been renamed the `features` module and `features_from_X` functions. Use these instead. The `geometries` module and function names are deprecated and will be removed in a future release.\n",
            "  build3 = ox.geometries_from_polygon(new_poly, tags = {\"building\": True})\n",
            "<ipython-input-18-8d4d98e3de7c>:13: UserWarning: The `geometries` module and `geometries_from_X` functions have been renamed the `features` module and `features_from_X` functions. Use these instead. The `geometries` module and function names are deprecated and will be removed in a future release.\n",
            "  build3 = ox.geometries_from_polygon(new_poly, tags = {\"building\": True})\n",
            "<ipython-input-18-8d4d98e3de7c>:13: UserWarning: The `geometries` module and `geometries_from_X` functions have been renamed the `features` module and `features_from_X` functions. Use these instead. The `geometries` module and function names are deprecated and will be removed in a future release.\n",
            "  build3 = ox.geometries_from_polygon(new_poly, tags = {\"building\": True})\n",
            "<ipython-input-18-8d4d98e3de7c>:13: UserWarning: The `geometries` module and `geometries_from_X` functions have been renamed the `features` module and `features_from_X` functions. Use these instead. The `geometries` module and function names are deprecated and will be removed in a future release.\n",
            "  build3 = ox.geometries_from_polygon(new_poly, tags = {\"building\": True})\n",
            "<ipython-input-18-8d4d98e3de7c>:13: UserWarning: The `geometries` module and `geometries_from_X` functions have been renamed the `features` module and `features_from_X` functions. Use these instead. The `geometries` module and function names are deprecated and will be removed in a future release.\n",
            "  build3 = ox.geometries_from_polygon(new_poly, tags = {\"building\": True})\n",
            "<ipython-input-18-8d4d98e3de7c>:13: UserWarning: The `geometries` module and `geometries_from_X` functions have been renamed the `features` module and `features_from_X` functions. Use these instead. The `geometries` module and function names are deprecated and will be removed in a future release.\n",
            "  build3 = ox.geometries_from_polygon(new_poly, tags = {\"building\": True})\n",
            "<ipython-input-18-8d4d98e3de7c>:13: UserWarning: The `geometries` module and `geometries_from_X` functions have been renamed the `features` module and `features_from_X` functions. Use these instead. The `geometries` module and function names are deprecated and will be removed in a future release.\n",
            "  build3 = ox.geometries_from_polygon(new_poly, tags = {\"building\": True})\n",
            "<ipython-input-18-8d4d98e3de7c>:13: UserWarning: The `geometries` module and `geometries_from_X` functions have been renamed the `features` module and `features_from_X` functions. Use these instead. The `geometries` module and function names are deprecated and will be removed in a future release.\n",
            "  build3 = ox.geometries_from_polygon(new_poly, tags = {\"building\": True})\n",
            "<ipython-input-18-8d4d98e3de7c>:13: UserWarning: The `geometries` module and `geometries_from_X` functions have been renamed the `features` module and `features_from_X` functions. Use these instead. The `geometries` module and function names are deprecated and will be removed in a future release.\n",
            "  build3 = ox.geometries_from_polygon(new_poly, tags = {\"building\": True})\n",
            "<ipython-input-18-8d4d98e3de7c>:13: UserWarning: The `geometries` module and `geometries_from_X` functions have been renamed the `features` module and `features_from_X` functions. Use these instead. The `geometries` module and function names are deprecated and will be removed in a future release.\n",
            "  build3 = ox.geometries_from_polygon(new_poly, tags = {\"building\": True})\n",
            "<ipython-input-18-8d4d98e3de7c>:13: UserWarning: The `geometries` module and `geometries_from_X` functions have been renamed the `features` module and `features_from_X` functions. Use these instead. The `geometries` module and function names are deprecated and will be removed in a future release.\n",
            "  build3 = ox.geometries_from_polygon(new_poly, tags = {\"building\": True})\n",
            "<ipython-input-18-8d4d98e3de7c>:13: UserWarning: The `geometries` module and `geometries_from_X` functions have been renamed the `features` module and `features_from_X` functions. Use these instead. The `geometries` module and function names are deprecated and will be removed in a future release.\n",
            "  build3 = ox.geometries_from_polygon(new_poly, tags = {\"building\": True})\n",
            "<ipython-input-18-8d4d98e3de7c>:13: UserWarning: The `geometries` module and `geometries_from_X` functions have been renamed the `features` module and `features_from_X` functions. Use these instead. The `geometries` module and function names are deprecated and will be removed in a future release.\n",
            "  build3 = ox.geometries_from_polygon(new_poly, tags = {\"building\": True})\n",
            "<ipython-input-18-8d4d98e3de7c>:13: UserWarning: The `geometries` module and `geometries_from_X` functions have been renamed the `features` module and `features_from_X` functions. Use these instead. The `geometries` module and function names are deprecated and will be removed in a future release.\n",
            "  build3 = ox.geometries_from_polygon(new_poly, tags = {\"building\": True})\n",
            "<ipython-input-18-8d4d98e3de7c>:13: UserWarning: The `geometries` module and `geometries_from_X` functions have been renamed the `features` module and `features_from_X` functions. Use these instead. The `geometries` module and function names are deprecated and will be removed in a future release.\n",
            "  build3 = ox.geometries_from_polygon(new_poly, tags = {\"building\": True})\n",
            "<ipython-input-18-8d4d98e3de7c>:13: UserWarning: The `geometries` module and `geometries_from_X` functions have been renamed the `features` module and `features_from_X` functions. Use these instead. The `geometries` module and function names are deprecated and will be removed in a future release.\n",
            "  build3 = ox.geometries_from_polygon(new_poly, tags = {\"building\": True})\n",
            "<ipython-input-18-8d4d98e3de7c>:13: UserWarning: The `geometries` module and `geometries_from_X` functions have been renamed the `features` module and `features_from_X` functions. Use these instead. The `geometries` module and function names are deprecated and will be removed in a future release.\n",
            "  build3 = ox.geometries_from_polygon(new_poly, tags = {\"building\": True})\n",
            "<ipython-input-18-8d4d98e3de7c>:13: UserWarning: The `geometries` module and `geometries_from_X` functions have been renamed the `features` module and `features_from_X` functions. Use these instead. The `geometries` module and function names are deprecated and will be removed in a future release.\n",
            "  build3 = ox.geometries_from_polygon(new_poly, tags = {\"building\": True})\n",
            "<ipython-input-18-8d4d98e3de7c>:13: UserWarning: The `geometries` module and `geometries_from_X` functions have been renamed the `features` module and `features_from_X` functions. Use these instead. The `geometries` module and function names are deprecated and will be removed in a future release.\n",
            "  build3 = ox.geometries_from_polygon(new_poly, tags = {\"building\": True})\n",
            "<ipython-input-18-8d4d98e3de7c>:13: UserWarning: The `geometries` module and `geometries_from_X` functions have been renamed the `features` module and `features_from_X` functions. Use these instead. The `geometries` module and function names are deprecated and will be removed in a future release.\n",
            "  build3 = ox.geometries_from_polygon(new_poly, tags = {\"building\": True})\n",
            "<ipython-input-18-8d4d98e3de7c>:13: UserWarning: The `geometries` module and `geometries_from_X` functions have been renamed the `features` module and `features_from_X` functions. Use these instead. The `geometries` module and function names are deprecated and will be removed in a future release.\n",
            "  build3 = ox.geometries_from_polygon(new_poly, tags = {\"building\": True})\n",
            "<ipython-input-18-8d4d98e3de7c>:13: UserWarning: The `geometries` module and `geometries_from_X` functions have been renamed the `features` module and `features_from_X` functions. Use these instead. The `geometries` module and function names are deprecated and will be removed in a future release.\n",
            "  build3 = ox.geometries_from_polygon(new_poly, tags = {\"building\": True})\n",
            "<ipython-input-18-8d4d98e3de7c>:13: UserWarning: The `geometries` module and `geometries_from_X` functions have been renamed the `features` module and `features_from_X` functions. Use these instead. The `geometries` module and function names are deprecated and will be removed in a future release.\n",
            "  build3 = ox.geometries_from_polygon(new_poly, tags = {\"building\": True})\n",
            "<ipython-input-18-8d4d98e3de7c>:13: UserWarning: The `geometries` module and `geometries_from_X` functions have been renamed the `features` module and `features_from_X` functions. Use these instead. The `geometries` module and function names are deprecated and will be removed in a future release.\n",
            "  build3 = ox.geometries_from_polygon(new_poly, tags = {\"building\": True})\n",
            "<ipython-input-18-8d4d98e3de7c>:13: UserWarning: The `geometries` module and `geometries_from_X` functions have been renamed the `features` module and `features_from_X` functions. Use these instead. The `geometries` module and function names are deprecated and will be removed in a future release.\n",
            "  build3 = ox.geometries_from_polygon(new_poly, tags = {\"building\": True})\n",
            "<ipython-input-18-8d4d98e3de7c>:13: UserWarning: The `geometries` module and `geometries_from_X` functions have been renamed the `features` module and `features_from_X` functions. Use these instead. The `geometries` module and function names are deprecated and will be removed in a future release.\n",
            "  build3 = ox.geometries_from_polygon(new_poly, tags = {\"building\": True})\n",
            "<ipython-input-18-8d4d98e3de7c>:13: UserWarning: The `geometries` module and `geometries_from_X` functions have been renamed the `features` module and `features_from_X` functions. Use these instead. The `geometries` module and function names are deprecated and will be removed in a future release.\n",
            "  build3 = ox.geometries_from_polygon(new_poly, tags = {\"building\": True})\n",
            "<ipython-input-18-8d4d98e3de7c>:13: UserWarning: The `geometries` module and `geometries_from_X` functions have been renamed the `features` module and `features_from_X` functions. Use these instead. The `geometries` module and function names are deprecated and will be removed in a future release.\n",
            "  build3 = ox.geometries_from_polygon(new_poly, tags = {\"building\": True})\n",
            "<ipython-input-18-8d4d98e3de7c>:13: UserWarning: The `geometries` module and `geometries_from_X` functions have been renamed the `features` module and `features_from_X` functions. Use these instead. The `geometries` module and function names are deprecated and will be removed in a future release.\n",
            "  build3 = ox.geometries_from_polygon(new_poly, tags = {\"building\": True})\n",
            "<ipython-input-18-8d4d98e3de7c>:13: UserWarning: The `geometries` module and `geometries_from_X` functions have been renamed the `features` module and `features_from_X` functions. Use these instead. The `geometries` module and function names are deprecated and will be removed in a future release.\n",
            "  build3 = ox.geometries_from_polygon(new_poly, tags = {\"building\": True})\n",
            "<ipython-input-18-8d4d98e3de7c>:13: UserWarning: The `geometries` module and `geometries_from_X` functions have been renamed the `features` module and `features_from_X` functions. Use these instead. The `geometries` module and function names are deprecated and will be removed in a future release.\n",
            "  build3 = ox.geometries_from_polygon(new_poly, tags = {\"building\": True})\n",
            "<ipython-input-18-8d4d98e3de7c>:13: UserWarning: The `geometries` module and `geometries_from_X` functions have been renamed the `features` module and `features_from_X` functions. Use these instead. The `geometries` module and function names are deprecated and will be removed in a future release.\n",
            "  build3 = ox.geometries_from_polygon(new_poly, tags = {\"building\": True})\n"
          ]
        },
        {
          "output_type": "stream",
          "name": "stdout",
          "text": [
            "Divisão 49 salva em divisao_49.shp\n"
          ]
        }
      ]
    }
  ]
}